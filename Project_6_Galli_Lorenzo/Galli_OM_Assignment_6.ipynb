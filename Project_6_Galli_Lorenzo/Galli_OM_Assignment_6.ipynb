{
 "cells": [
  {
   "cell_type": "markdown",
   "metadata": {},
   "source": [
    "# Optimization Methods: Assignment 6\n",
    "\n",
    "---"
   ]
  },
  {
   "cell_type": "markdown",
   "metadata": {},
   "source": [
    "Part 1 & Part 2 will do it later."
   ]
  },
  {
   "cell_type": "markdown",
   "metadata": {},
   "source": [
    "## Part 3: Programming problems"
   ]
  },
  {
   "cell_type": "code",
   "execution_count": 1,
   "metadata": {},
   "outputs": [],
   "source": [
    "import math\n",
    "import numpy as np\n",
    "import pandas as pd\n",
    "import networkx as nx\n",
    "import matplotlib.pyplot as plt\n",
    "import time"
   ]
  },
  {
   "cell_type": "markdown",
   "metadata": {},
   "source": [
    "## Problem 1: Active Constraints"
   ]
  },
  {
   "cell_type": "markdown",
   "metadata": {},
   "source": [
    "Consider the following constrained and linear optimisation problem:\n",
    "\n",
    "$$\n",
    "\\begin{aligned}\n",
    "\\min_{x \\in \\mathbb{R}^2} \\quad & 2x_1 + x_2 \\\\\n",
    "\\text{s.t.} \\quad\n",
    "& x_1 + x_2 \\geq 3 \\\\\n",
    "& x_1 + 2x_2 \\leq 6 \\\\\n",
    "& x_1 \\geq 1 \\\\\n",
    "& x_2 \\geq 1\n",
    "\\end{aligned}\n",
    "$$"
   ]
  },
  {
   "cell_type": "markdown",
   "metadata": {},
   "source": [
    "### 1. $is\\_ci\\_verified$\n",
    "\n",
    "For each constraint, write a function $is\\_ci\\_verified$ that checks for any point $x$ if the constraint is verified at x (this function should return a boolean).\n",
    "\n",
    "If a point satisfies a constraint, the constraint is verified at that point."
   ]
  },
  {
   "cell_type": "code",
   "execution_count": 2,
   "metadata": {},
   "outputs": [],
   "source": [
    "# x1 + x2 ≥ 3\n",
    "def is_c1_verified(x):\n",
    "    return x[0] + x[1] >= 3\n",
    "\n",
    "# x1 + 2x2 ≤ 6\n",
    "def is_c2_verified(x):\n",
    "    return x[0] + 2 * x[1] <= 6\n",
    "\n",
    "# x1 ≥ 1\n",
    "def is_c3_verified(x):\n",
    "    return x[0] >= 1\n",
    "\n",
    "# x2 ≥ 1\n",
    "def is_c4_verified(x):\n",
    "    return x[1] >= 1"
   ]
  },
  {
   "cell_type": "code",
   "execution_count": 3,
   "metadata": {},
   "outputs": [
    {
     "name": "stdout",
     "output_type": "stream",
     "text": [
      "True\n",
      "True\n",
      "True\n",
      "True\n"
     ]
    }
   ],
   "source": [
    "# Example\n",
    "x = (2, 2)\n",
    "\n",
    "print(is_c1_verified(x))\n",
    "print(is_c2_verified(x))\n",
    "print(is_c3_verified(x))\n",
    "print(is_c4_verified(x))"
   ]
  },
  {
   "cell_type": "markdown",
   "metadata": {},
   "source": [
    "### 2. $is\\_feasible$\n",
    "\n",
    "Using the previous functions, write a function $is\\_feasible$ that checks if a point $x$ is feasible (this function should return a boolean).\n",
    "\n",
    "A point $x = (x_1, x_2)$ is feasible if it satisfies all the constraints of the optimization problem."
   ]
  },
  {
   "cell_type": "code",
   "execution_count": 4,
   "metadata": {},
   "outputs": [],
   "source": [
    "def is_feasible(x):\n",
    "    return (\n",
    "        is_c1_verified(x) and\n",
    "        is_c2_verified(x) and\n",
    "        is_c3_verified(x) and\n",
    "        is_c4_verified(x)\n",
    "    )"
   ]
  },
  {
   "cell_type": "markdown",
   "metadata": {},
   "source": [
    "### 3. Test it on $x^0 = (1,2)$ and $x^1 = (3,1.2)$. Are $x^0$ and $x^1$ feasible?"
   ]
  },
  {
   "cell_type": "code",
   "execution_count": 5,
   "metadata": {},
   "outputs": [
    {
     "name": "stdout",
     "output_type": "stream",
     "text": [
      "x0 is feasible: True\n",
      "x1 is feasible: True\n"
     ]
    }
   ],
   "source": [
    "x0 = (1, 2)\n",
    "x1 = (3, 1.2)\n",
    "\n",
    "print(\"x0 is feasible:\", is_feasible(x0))\n",
    "print(\"x1 is feasible:\", is_feasible(x1))"
   ]
  },
  {
   "cell_type": "markdown",
   "metadata": {},
   "source": [
    "They are both feasbile."
   ]
  },
  {
   "cell_type": "markdown",
   "metadata": {},
   "source": [
    "### 4. $is\\_ci\\_active$\n",
    "\n",
    "For each constraint, write a function $is\\_ci\\_active$ that checks for any point $x$ if the constraint is active at $x$ (this function should return a boolean).\n",
    "\n",
    "A constraint is active at a point $x$ if the constraint is satisfied with equality at that point. This means the inequality becomes an equality at $x$."
   ]
  },
  {
   "cell_type": "code",
   "execution_count": 6,
   "metadata": {},
   "outputs": [],
   "source": [
    "# Using tolerance because it handles better floating point numbers\n",
    "\n",
    "# x1 + x2 ≥ 3 → active if x1 + x2 = 3\n",
    "def is_c1_active(x):\n",
    "    return abs(x[0] + x[1] - 3) < 1e-8\n",
    "\n",
    "# x1 + 2x2 ≤ 6 → active if x1 + 2x2 = 6\n",
    "def is_c2_active(x):\n",
    "    return abs(x[0] + 2 * x[1] - 6) < 1e-8\n",
    "\n",
    "# x1 ≥ 1 → active if x1 = 1\n",
    "def is_c3_active(x):\n",
    "    return abs(x[0] - 1) < 1e-8\n",
    "\n",
    "# x2 ≥ 1 → active if x2 = 1\n",
    "def is_c4_active(x):\n",
    "    return abs(x[1] - 1) < 1e-8"
   ]
  },
  {
   "cell_type": "markdown",
   "metadata": {},
   "source": [
    "### 5. Test these functions on $x^0$ and $x^1$.\n",
    "\n",
    "Which constraints are active at $x^0$? Same question for $x^1$."
   ]
  },
  {
   "cell_type": "code",
   "execution_count": 7,
   "metadata": {},
   "outputs": [],
   "source": [
    "def get_active_constraints(x):\n",
    "    active = []\n",
    "    if is_c1_active(x): active.append(\"c1\")\n",
    "    if is_c2_active(x): active.append(\"c2\")\n",
    "    if is_c3_active(x): active.append(\"c3\")\n",
    "    if is_c4_active(x): active.append(\"c4\")\n",
    "    return active"
   ]
  },
  {
   "cell_type": "code",
   "execution_count": 8,
   "metadata": {},
   "outputs": [
    {
     "name": "stdout",
     "output_type": "stream",
     "text": [
      "Active constraints at x0: ['c1', 'c3']\n",
      "Active constraints at x1: []\n"
     ]
    }
   ],
   "source": [
    "x0 = (1, 2)\n",
    "x1 = (3, 1.2)\n",
    "\n",
    "print(\"Active constraints at x0:\", get_active_constraints(x0))\n",
    "print(\"Active constraints at x1:\", get_active_constraints(x1))"
   ]
  },
  {
   "cell_type": "markdown",
   "metadata": {},
   "source": [
    "### 6. We now want to plot the feasible region $Ω$ of this problem.\n",
    "\n",
    "Since the constraints are linear, each of them defines a halfspace and the intersection of the four halfspaces is the feasible region.\n",
    "\n",
    "To find the halfspace defined by each constraint, we can first find the equation of the line dividing the space into 2 halfspaces.\n",
    "\n",
    "For instance, for the first constraint $x1 + x2 ≥ 3$, the corresponding line is $x1 + x2 = 3$ which is the same as $x2 = 3 − x1$.\n",
    "\n",
    "We can thus plot the latter line and the corresponding halfspace is $x2 ≥ 3 − x1$, i.e., the region “above” the line.\n",
    "\n",
    "Repeat this strategy for all four constraints and annotate in your plot the location of $Ω$."
   ]
  },
  {
   "cell_type": "code",
   "execution_count": 9,
   "metadata": {},
   "outputs": [
    {
     "data": {
      "image/png": "[encoded data removed]",
      "text/plain": [
       "<Figure size 800x600 with 1 Axes>"
      ]
     },
     "metadata": {},
     "output_type": "display_data"
    }
   ],
   "source": [
    "x1 = np.linspace(0, 5, 400)\n",
    "x2 = np.linspace(0, 5, 400)\n",
    "X1, X2 = np.meshgrid(x1, x2)\n",
    "\n",
    "# Constraints\n",
    "c1 = (X1 + X2 >= 3)\n",
    "c2 = (X1 + 2*X2 <= 6)\n",
    "c3 = (X1 >= 1)\n",
    "c4 = (X2 >= 1)\n",
    "\n",
    "# Feasible region (intersection of all constraints)\n",
    "feasible = c1 & c2 & c3 & c4\n",
    "\n",
    "plt.figure(figsize=(8, 6))\n",
    "plt.title(\"Feasible Region Ω\")\n",
    "\n",
    "plt.contourf(X1, X2, feasible, levels=[0.5, 1], colors=[\"#a0d2eb\"], alpha=0.6)\n",
    "\n",
    "plt.plot(x1, 3 - x1, label=r\"$x_1 + x_2 = 3 \\;\\Leftrightarrow\\; x_2 = 3 - x_1$\", color='blue')\n",
    "plt.plot(x1, (6 - x1) / 2, label=r\"$x_1 + 2x_2 = 6 \\;\\Leftrightarrow\\; x_1 = 6 - 2x_2$\", color='red')\n",
    "plt.axvline(1, label=r\"$x_1 = 1$\", color='green')\n",
    "plt.axhline(1, label=r\"$x_2 = 1$\", color='orange')\n",
    "\n",
    "plt.xlabel(r\"$x_1$\")\n",
    "plt.ylabel(r\"$x_2$\")\n",
    "plt.xlim(0, 5)\n",
    "plt.ylim(0, 5)\n",
    "plt.legend()\n",
    "plt.grid(True)\n",
    "\n",
    "plt.text(2, 1.5, r\"$\\Omega$\", fontsize=16, color=\"black\")\n",
    "\n",
    "plt.show()\n"
   ]
  },
  {
   "cell_type": "markdown",
   "metadata": {},
   "source": [
    "### 7. Add on the previous plot the location of the points $x^0$ and $x^1$.\n",
    "\n",
    "Observe that $x^0$ belongs to the lines corresponding to the active constraints at $x^0$."
   ]
  },
  {
   "cell_type": "code",
   "execution_count": 10,
   "metadata": {},
   "outputs": [
    {
     "data": {
      "image/png": "[encoded data removed]",
      "text/plain": [
       "<Figure size 800x600 with 1 Axes>"
      ]
     },
     "metadata": {},
     "output_type": "display_data"
    }
   ],
   "source": [
    "x1 = np.linspace(0, 5, 400)\n",
    "x2 = np.linspace(0, 5, 400)\n",
    "X1, X2 = np.meshgrid(x1, x2)\n",
    "\n",
    "c1 = (X1 + X2 >= 3)\n",
    "c2 = (X1 + 2*X2 <= 6)\n",
    "c3 = (X1 >= 1)\n",
    "c4 = (X2 >= 1)\n",
    "\n",
    "feasible = c1 & c2 & c3 & c4\n",
    "\n",
    "# Points to plot\n",
    "x0 = (1, 2)\n",
    "x1_pt = (3, 1.2)\n",
    "\n",
    "plt.figure(figsize=(8, 6))\n",
    "plt.title(\"Feasible Region Ω with Points x₀ and x₁\")\n",
    "\n",
    "plt.contourf(X1, X2, feasible, levels=[0.5, 1], colors=[\"#a0d2eb\"], alpha=0.6)\n",
    "\n",
    "plt.plot(x1, 3 - x1, label=r\"$x_1 + x_2 = 3 \\;\\Leftrightarrow\\; x_2 = 3 - x_1$\", color='blue')\n",
    "plt.plot(x1, (6 - x1) / 2, label=r\"$x_1 + 2x_2 = 6 \\;\\Leftrightarrow\\; x_1 = 6 - 2x_2$\", color='red')\n",
    "plt.axvline(1, label=r\"$x_1 = 1$\", color='green')\n",
    "plt.axhline(1, label=r\"$x_2 = 1$\", color='orange')\n",
    "\n",
    "plt.plot(*x0, 'ko', label=r\"$x_0 = (1, 2)$\")\n",
    "plt.plot(*x1_pt, 'mo', label=r\"$x_1 = (3, 1.2)$\")\n",
    "\n",
    "plt.text(x0[0] + 0.1, x0[1], r\"$x_0$\", fontsize=12)\n",
    "plt.text(x1_pt[0] + 0.1, x1_pt[1], r\"$x_1$\", fontsize=12)\n",
    "\n",
    "plt.xlabel(r\"$x_1$\")\n",
    "plt.ylabel(r\"$x_2$\")\n",
    "plt.xlim(0, 5)\n",
    "plt.ylim(0, 5)\n",
    "plt.legend()\n",
    "plt.grid(True)\n",
    "plt.text(2, 1.5, r\"$\\Omega$\", fontsize=16, color=\"black\")\n",
    "\n",
    "plt.show()"
   ]
  },
  {
   "cell_type": "markdown",
   "metadata": {},
   "source": [
    "Earlier we verified that c1 and c3 are active constraints at $x^0$.\n",
    "\n",
    "In fact, as we can see, $x^0$ belongs to both c1 and c3 lines."
   ]
  },
  {
   "cell_type": "markdown",
   "metadata": {},
   "source": [
    "### 8. We now want to determine the solution of this constrained problem.\n",
    "\n",
    "Since the objective function is linear, for any scalar $b ∈ R, f(x) = b$ is the equation of a line.\n",
    "\n",
    "Observe that this defines a family of parallel lines, indexed by different values of $b$. Thus, to find the optimum, we need to find $b$ such that at least one point of the line $f(x) = b$ falls in the feasible region.\n",
    "\n",
    "Check that this happens for $b = 4$ and that $x^0$ is the global minimiser by plotting the corresponding line."
   ]
  },
  {
   "cell_type": "markdown",
   "metadata": {},
   "source": [
    "We are minimizing the linear objective function:\n",
    "\n",
    "$$\n",
    "f(x) = 2x_1 + x_2\n",
    "$$\n",
    "\n",
    "This function defines a family of lines of the form:\n",
    "\n",
    "$$\n",
    "2x_1 + x_2 = b, \\quad \\text{for } b \\in \\mathbb{R}\n",
    "$$\n",
    "\n",
    "Each value of $b$ corresponds to a level line of the objective function.\n",
    "\n",
    "To find the minimum, we move the line $2x_1 + x_2 = b$ downward (in the direction of decreasing $f$), stopping when the line just touches the feasible region $\\Omega$.\n",
    "\n",
    "This happens when the line intersects the feasible region but does not fully pass through it. That point of contact is the global minimizer.\n",
    "\n",
    "Let’s consider:\n",
    "\n",
    "$$\n",
    "2x_1 + x_2 = 4 \\;\\; \\Leftrightarrow \\;\\; x_2 = 4 - 2x_1\n",
    "$$\n",
    "\n",
    "We’ll plot this line and see if it intersects the feasible region $\\Omega$.\n",
    "\n",
    "We also know from previous checks that:\n",
    "\n",
    "- $x_0 = (1, 2)$ is feasible\n",
    "- At $x_0$, we have: $f(x_0) = 2 \\cdot 1 + 2 = 4$\n",
    "\n",
    "Therefore, $x_0$ lies on the level line $f(x) = 4$, and if no other feasible point yields a smaller value, $x_0$ is the global minimizer."
   ]
  },
  {
   "cell_type": "code",
   "execution_count": 11,
   "metadata": {},
   "outputs": [
    {
     "data": {
      "image/png": "[encoded data removed]",
      "text/plain": [
       "<Figure size 800x600 with 1 Axes>"
      ]
     },
     "metadata": {},
     "output_type": "display_data"
    }
   ],
   "source": [
    "x1 = np.linspace(0, 5, 400)\n",
    "x2 = np.linspace(0, 5, 400)\n",
    "X1, X2 = np.meshgrid(x1, x2)\n",
    "\n",
    "# Constraints\n",
    "c1 = (X1 + X2 >= 3)\n",
    "c2 = (X1 + 2 * X2 <= 6)\n",
    "c3 = (X1 >= 1)\n",
    "c4 = (X2 >= 1)\n",
    "feasible = c1 & c2 & c3 & c4\n",
    "\n",
    "# Points\n",
    "x0 = (1, 2)\n",
    "x1_pt = (3, 1.2)\n",
    "\n",
    "# Objective line: f(x) = 2x1 + x2 = 4 → x2 = 4 - 2x1\n",
    "f_line_x2 = 4 - 2 * x1\n",
    "\n",
    "plt.figure(figsize=(8, 6))\n",
    "plt.title(\"Feasible Region Ω and Objective Line f(x) = 4\")\n",
    "\n",
    "plt.contourf(X1, X2, feasible, levels=[0.5, 1], colors=[\"#a0d2eb\"], alpha=0.6)\n",
    "\n",
    "plt.plot(x1, 3 - x1, label=r\"$x_1 + x_2 = 3$\", color='blue')\n",
    "plt.plot(x1, (6 - x1)/2, label=r\"$x_1 + 2x_2 = 6$\", color='red')\n",
    "plt.axvline(1, label=r\"$x_1 = 1$\", color='green')\n",
    "plt.axhline(1, label=r\"$x_2 = 1$\", color='orange')\n",
    "\n",
    "# Objective function level line\n",
    "plt.plot(x1, f_line_x2, 'k--', label=r\"$2x_1 + x_2 = 4$\")\n",
    "\n",
    "plt.plot(*x0, 'ko', label=r\"$x_0 = (1, 2)$\")\n",
    "plt.plot(*x1_pt, 'mo', label=r\"$x_1 = (3, 1.2)$\")\n",
    "plt.text(x0[0] + 0.1, x0[1], r\"$x_0$\", fontsize=12)\n",
    "plt.text(x1_pt[0] + 0.1, x1_pt[1], r\"$x_1$\", fontsize=12)\n",
    "\n",
    "plt.xlabel(r\"$x_1$\")\n",
    "plt.ylabel(r\"$x_2$\")\n",
    "plt.xlim(0, 5)\n",
    "plt.ylim(0, 5)\n",
    "plt.legend()\n",
    "plt.grid(True)\n",
    "plt.text(2, 1.5, r\"$\\Omega$\", fontsize=16, color=\"black\")\n",
    "\n",
    "plt.show()"
   ]
  },
  {
   "cell_type": "markdown",
   "metadata": {},
   "source": [
    "We can easily check that this is true in an easy way. In linear optimization problems (also known as Linear Programming), where:\n",
    "\n",
    "- the objective function is linear,\n",
    "- the constraints are linear inequalities,\n",
    "\n",
    "The optimal solution, if it exists, lies at a vertex (corner point) of the feasible region.\n",
    "\n",
    "This means we don’t need to evaluate every point, but we can just evaluate the objective function at the corner points of $\\Omega$, and select the one with the smallest value.\n",
    "\n",
    "Since our problem is relatively simple, let's do this double check.\n"
   ]
  },
  {
   "cell_type": "code",
   "execution_count": 12,
   "metadata": {},
   "outputs": [
    {
     "name": "stdout",
     "output_type": "stream",
     "text": [
      "f(2, 2) at A (2, 2) = 6\n",
      "f(2, 2) at B (4, 1) = 9\n",
      "f(2, 2) at C (1, 3) = 5\n",
      "f(2, 2) at D (1, 2) = 4\n"
     ]
    }
   ],
   "source": [
    "# Evaluating the Objective Function f(x) = 2x₁ + x₂\n",
    "def f(x):\n",
    "    return 2 * x[0] + x[1]\n",
    "\n",
    "# Define the points\n",
    "corner_points = {\n",
    "    \"A (2, 2)\": (2, 2),\n",
    "    \"B (4, 1)\": (4, 1),\n",
    "    \"C (1, 3)\": (1, 3),\n",
    "    \"D (1, 2)\": (1, 2)\n",
    "}\n",
    "\n",
    "for name, pt in corner_points.items():\n",
    "    print(f\"f{x} at {name} = {f(pt)}\")\n"
   ]
  },
  {
   "cell_type": "markdown",
   "metadata": {},
   "source": [
    "In conclusion, the graphic method was absolutely correct and $x^0$ is the global minimizer (optimal solution) of the objective function."
   ]
  },
  {
   "cell_type": "markdown",
   "metadata": {},
   "source": [
    "## Problem 2 - KKT Conditions"
   ]
  },
  {
   "cell_type": "markdown",
   "metadata": {},
   "source": [
    "Consider the following constrained problem:\n",
    "\n",
    "$$\n",
    "\\begin{aligned}\n",
    "\\min_{x \\in \\mathbb{R}^2} \\quad & x^2 \\\\\n",
    "\\text{s.t.} \\quad\n",
    "& 1 \\leq x \\leq 4\n",
    "\\end{aligned}\n",
    "$$"
   ]
  },
  {
   "cell_type": "markdown",
   "metadata": {},
   "source": [
    "### 1. General form\n",
    "\n",
    "Re-write this problem in the general form given in the lectures by finding the constraint functions $ci$ and for each of them, define a function that compute $ci(x)$ for any point $x$."
   ]
  },
  {
   "cell_type": "markdown",
   "metadata": {},
   "source": [
    "To write this in the general constrained form, we express all constraints as inequality constraints of the type:\n",
    "\n",
    "$$\n",
    "c_i(x) \\geq 0\n",
    "$$\n",
    "\n",
    "Or in the case of equality constraints:\n",
    "\n",
    "$$\n",
    "c_i(x) = 0\n",
    "$$\n",
    "\n",
    "We have two constraints:\n",
    "\n",
    "- $x \\geq 1$ can be written as: $c_1(x) = x - 1 \\geq 0$\n",
    "\n",
    "- $x \\leq 4$ can be written as: $c_2(x) = 4 - x \\geq 0$\n",
    "\n",
    "There are no equality constraints in this problem ($E = \\emptyset$)."
   ]
  },
  {
   "cell_type": "code",
   "execution_count": 13,
   "metadata": {},
   "outputs": [],
   "source": [
    "# Objective function\n",
    "def f(x):\n",
    "    return x**2\n",
    "\n",
    "# x ≥ 1 → x - 1 ≥ 0\n",
    "def c1(x):\n",
    "    return x - 1\n",
    "\n",
    "# x ≤ 4 → 4 - x ≥ 0\n",
    "def c2(x):\n",
    "    return 4 - x"
   ]
  },
  {
   "cell_type": "markdown",
   "metadata": {},
   "source": [
    "### 2. $is\\_feasible$\n",
    "\n",
    "Write a function $is\\_feasible$ that checks if a point $x$ is feasible (this function should return a boolean).\n",
    "\n",
    "I will call this function $is\\_feasible2$ since so that we don't have any issue with the same function of the previous exercise.\n",
    "\n",
    "Again, a point $x = (x_1, x_2, ..., x_n)$ is feasible if it satisfies all the constraints of the optimization problem."
   ]
  },
  {
   "cell_type": "code",
   "execution_count": 14,
   "metadata": {},
   "outputs": [],
   "source": [
    "def is_feasible2(x):\n",
    "    return (c1(x) >= 0 and c2(x) >= 0)"
   ]
  },
  {
   "cell_type": "markdown",
   "metadata": {},
   "source": [
    "### 3. Test this functions on $x^0 = 0$, $x^1 = 1$ and $x^2 = 3$."
   ]
  },
  {
   "cell_type": "code",
   "execution_count": 15,
   "metadata": {},
   "outputs": [
    {
     "name": "stdout",
     "output_type": "stream",
     "text": [
      "x0 = 0, feasible? False\n",
      "x1 = 1, feasible? True\n",
      "x2 = 3, feasible? True\n"
     ]
    }
   ],
   "source": [
    "x0 = 0\n",
    "x1 = 1\n",
    "x2 = 3\n",
    "\n",
    "print(f\"x0 = {x0}, feasible? {is_feasible2(x0)}\")\n",
    "print(f\"x1 = {x1}, feasible? {is_feasible2(x1)}\")\n",
    "print(f\"x2 = {x2}, feasible? {is_feasible2(x2)}\")"
   ]
  },
  {
   "cell_type": "markdown",
   "metadata": {},
   "source": [
    "### 4. Define a function that computes the Lagragian for any point $x$ and vector of multipliers $λ$."
   ]
  },
  {
   "cell_type": "markdown",
   "metadata": {},
   "source": [
    "The Lagrangian is used to study optimization problems with constraints. Suppose we want to minimize a function $f(x)$ subject to one or more constraints:\n",
    "\n",
    "- Equality constraints: $c_j(x) = 0$\n",
    "- Inequality constraints: $c_i(x) \\geq 0$\n",
    "\n",
    "Instead of solving this problem directly, we combine the objective and the constraints into a **single function** called the **Lagrangian**:\n",
    "\n",
    "For a problem like:\n",
    "\n",
    "$$\n",
    "\\begin{aligned}\n",
    "\\min_{x \\in \\mathbb{R}^2} \\quad & f(x) \\\\\n",
    "\\text{s.t.} \\quad\n",
    "& c_i(x) \\geq 0 \\\\\n",
    "& c_j(x) = 0\n",
    "\\end{aligned}\n",
    "$$\n",
    "\n",
    "we define the Lagrangian:\n",
    "\n",
    "$$\n",
    "\\mathcal{L}(x, \\lambda, \\mu) = f(x) - \\sum_{i} \\lambda_i c_i(x) - \\sum_{j} \\mu_j c_j(x)\n",
    "$$\n",
    "\n",
    "- $\\lambda_i \\geq 0$: multipliers for **inequality** constraints\n",
    "- $\\mu_j \\in \\mathbb{R}$: multipliers for **equality** constraints\n",
    "\n",
    "In our case we only have inequality constraints.\n",
    "\n",
    "The Lagrangian is the foundation of the Karush-Kuhn-Tucker (KKT) conditions, which are necessary conditions for a point to be optimal (a minimizer) in a constrained problem.\n",
    "\n",
    "Basically it transforms a constrained optimization problem into one where we can apply calculus, such as calculating the gradient.\n",
    "\n",
    "In this case, for the problem:\n",
    "\n",
    "$$\n",
    "\\begin{aligned}\n",
    "\\min_{x \\in \\mathbb{R}^2} \\quad & x^2 \\\\\n",
    "\\text{s.t.} \\quad\n",
    "& x - 1 \\geq 0 \\\\\n",
    "& 4 - x \\geq 0\n",
    "\\end{aligned}\n",
    "$$\n",
    "\n",
    "The Lagrangian is:\n",
    "\n",
    "$$\n",
    "\\mathcal{L}(x, \\lambda) = x^2 - \\lambda_1(x - 1) - \\lambda_2(4 - x)\n",
    "$$\n",
    "\n",
    "Later, we will use this Lagrangian to write the KKT conditions, which allow us to find the candidate optimal points."
   ]
  },
  {
   "cell_type": "code",
   "execution_count": 16,
   "metadata": {},
   "outputs": [],
   "source": [
    "def lagrangian(x, lambdas):\n",
    "    λ1, λ2 = lambdas\n",
    "    return f(x) - λ1 * c1(x) - λ2 * c2(x)"
   ]
  },
  {
   "cell_type": "markdown",
   "metadata": {},
   "source": [
    "### 5. Define a function that computes the gradient of the Lagragian function with respect to $x$ and for any point $x$ and vector of multipliers $λ$."
   ]
  },
  {
   "cell_type": "markdown",
   "metadata": {},
   "source": [
    "We need to compute the gradient (derivative) of the Lagrangian:\n",
    "\n",
    "$$\n",
    "\\mathcal{L}(x, \\lambda) = x^2 - \\lambda_1(x - 1) - \\lambda_2(4 - x)\n",
    "$$\n",
    "\n",
    "Taking the derivative with respect to $x$:\n",
    "\n",
    "$$\n",
    "\\frac{d}{dx} \\mathcal{L}(x, \\lambda) = 2x - \\lambda_1 + \\lambda_2\n",
    "$$\n",
    "\n",
    "This derivative will be used in the **KKT stationarity condition**."
   ]
  },
  {
   "cell_type": "code",
   "execution_count": 17,
   "metadata": {},
   "outputs": [],
   "source": [
    "def grad_lagrangian(x, lambdas):\n",
    "    λ1, λ2 = lambdas\n",
    "    return (2 * x) - λ1 + λ2"
   ]
  },
  {
   "cell_type": "markdown",
   "metadata": {},
   "source": [
    "### 6. Check that the KKT conditions are verified at $x^* = 1$ and $λ^* = (0, 2)^T$."
   ]
  },
  {
   "cell_type": "markdown",
   "metadata": {},
   "source": [
    "Let $x^*$ be a candidate minimizer and $\\lambda^* = (\\lambda_1, \\lambda_2)^T$ the corresponding multipliers.\n",
    "\n",
    "Then the KKT conditions are:\n",
    "\n",
    "1. **Stationarity**: $\\nabla_x \\mathcal{L}(x^*, \\lambda^*) = 0$\n",
    "\n",
    "2. **Primal feasibility**: $c_1(x^*) \\geq 0, \\quad c_2(x^*) \\geq 0$\n",
    "\n",
    "3. **Dual feasibility**: $\\lambda_1 \\geq 0, \\quad \\lambda_2 \\geq 0$\n",
    "\n",
    "4. **Complementary slackness**: $\\lambda_1 \\cdot c_1(x^*) = 0, \\quad \\lambda_2 \\cdot c_2(x^*) = 0$\n",
    "\n",
    "Let's check all four KKT conditions for $x^* = 1$ and $λ^* = (0, 2)^T$."
   ]
  },
  {
   "cell_type": "code",
   "execution_count": 18,
   "metadata": {},
   "outputs": [
    {
     "name": "stdout",
     "output_type": "stream",
     "text": [
      "Stationarity: False\n",
      "Primal feasibility: True\n",
      "Dual feasibility: True\n",
      "Complementary slackness: False\n"
     ]
    }
   ],
   "source": [
    "x_star = 1\n",
    "lambdas_star = (0, 2)\n",
    "\n",
    "# KKT checks\n",
    "stationarity = grad_lagrangian(x_star, lambdas_star) == 0\n",
    "\n",
    "primal_feasibility = (c1(x_star) >= 0 and c2(x_star) >= 0)\n",
    "\n",
    "dual_feasibility = (lambdas_star[0] >= 0 and lambdas_star[1] >= 0)\n",
    "\n",
    "complementary_slackness = (lambdas_star[0] * c1(x_star) == 0 and lambdas_star[1] * c2(x_star) == 0)\n",
    "\n",
    "print(f\"Stationarity: {stationarity}\")\n",
    "print(f\"Primal feasibility: {primal_feasibility}\")\n",
    "print(f\"Dual feasibility: {dual_feasibility}\")\n",
    "print(f\"Complementary slackness: {complementary_slackness}\")"
   ]
  },
  {
   "cell_type": "markdown",
   "metadata": {},
   "source": [
    "At $x^* = 1$ and $λ^* = (0, 2)^T$ only two KKT conditions are verified.\n",
    "\n",
    "In fact, at this point with those lambda values we have:\n",
    "\n",
    "- $c_1(x) = x - 1 = 0$ → Constraint is active\n",
    "- $c_2(x) = 4 - x = 3 > 0$ → Constraint is inactive\n",
    "\n",
    "According to the last KKT condition:\n",
    "\n",
    "> If a constraint is **inactive** (i.e., $c_i(x^*) > 0$), then the corresponding lambda multiplier must be zero:  \n",
    ">  \n",
    "> $\\lambda_i \\cdot c_i(x^*) = 0 \\Rightarrow \\lambda_i = 0$\n",
    "\n",
    "But in this case $\\lambda_2 = 2$ and $c_2(x^*) = 3$, which multiplied yield 6, violating the complementary slackness condition.\n",
    "\n",
    "To satisfy all KKT conditions we should have had $x^* = 1$ and $\\lambda^* = (2, 0)^T$ instead."
   ]
  },
  {
   "cell_type": "markdown",
   "metadata": {},
   "source": [
    "## Problem 3 - Feasible Directions"
   ]
  },
  {
   "cell_type": "markdown",
   "metadata": {},
   "source": [
    "Consider a feasible set defined by $Ω = \\{x ∈ \\mathbb{R}^2: −x_0 + x_1 \\leq 2, \\quad x_0 + x_1 \\leq 4, \\quad x_0 \\geq 0, \\quad x1 \\geq 1\\}$."
   ]
  },
  {
   "cell_type": "markdown",
   "metadata": {},
   "source": [
    "We are given the feasible region:\n",
    "\n",
    "$$\n",
    "\\Omega = \\left\\{ x \\in \\mathbb{R}^2 \\; \\middle| \\;\n",
    "\\begin{aligned}\n",
    "- x_0 + x_1 &\\leq 2 \\\\\n",
    "x_0 + x_1 &\\leq 4 \\\\\n",
    "x_0 &\\geq 0 \\\\\n",
    "x_1 &\\geq 1\n",
    "\\end{aligned}\n",
    "\\right\\}\n",
    "$$\n",
    "\n",
    "To write this in **standard form**, we express all constraints as:\n",
    "\n",
    "$$\n",
    "c_i(x) \\geq 0\n",
    "$$\n",
    "\n",
    "The feasible set in standard form is:\n",
    "\n",
    "$$\n",
    "\\Omega = \\left\\{ x \\in \\mathbb{R}^2 \\; \\middle| \\;\n",
    "\\begin{aligned}\n",
    "c_1(x) &= x_0 - x_1 + 2 \\geq 0 \\\\\n",
    "c_2(x) &= - x_0 - x_1 + 4 \\geq 0 \\\\\n",
    "c_3(x) &= x_0 \\geq 0 \\\\\n",
    "c_4(x) &= x_1 - 1 \\geq 0\n",
    "\\end{aligned}\n",
    "\\right\\}\n",
    "$$"
   ]
  },
  {
   "cell_type": "markdown",
   "metadata": {},
   "source": [
    "### 1. Draw the lines delimitating the feasible set and annotate the area corresponding to the feasible set."
   ]
  },
  {
   "cell_type": "markdown",
   "metadata": {},
   "source": [
    "We can rewrite the constraints to better visualize the half-spaces:\n",
    "\n",
    "$$\n",
    "x_0 - x_1 + 2 \\geq 0 \\quad \\Leftrightarrow \\quad x_0 \\geq x_1 - 2\n",
    "$$\n",
    "\n",
    "This represents the region to the right of the line $x_0 = x_1 - 2$.\n",
    "\n",
    "$$\n",
    "- x_0 - x_1 + 4 \\geq 0 \\quad \\Leftrightarrow \\quad x_1 \\leq 4 - x_0\n",
    "$$\n",
    "\n",
    "This represents the region below the line $x_1 = 4 - x_0$.\n",
    "\n",
    "$$\n",
    "x_1 - 1 \\geq 0 \\quad \\Leftrightarrow \\quad x_1 \\geq 1\n",
    "$$\n",
    "\n",
    "This represents the region above the line $x_1 \\geq 1$."
   ]
  },
  {
   "cell_type": "code",
   "execution_count": 19,
   "metadata": {},
   "outputs": [
    {
     "data": {
      "image/png": "[encoded data removed]",
      "text/plain": [
       "<Figure size 800x600 with 1 Axes>"
      ]
     },
     "metadata": {},
     "output_type": "display_data"
    }
   ],
   "source": [
    "x0_vals = np.linspace(-1, 5, 400)\n",
    "x1_vals = np.linspace(-1, 6, 400)\n",
    "X0, X1 = np.meshgrid(x0_vals, x1_vals)\n",
    "\n",
    "# Constraints\n",
    "c1 = (X0 - X1 + 2) >= 0     # x0 >= x1 - 2\n",
    "c2 = (-X0 - X1 + 4) >= 0    # x1 <= 4 - x0\n",
    "c3 = X0 >= 0                # x0 >= 0\n",
    "c4 = X1 >= 1                # x1 >= 1\n",
    "\n",
    "# Feasible region\n",
    "feasible = c1 & c2 & c3 & c4\n",
    "\n",
    "plt.figure(figsize=(8, 6))\n",
    "plt.title(\"Feasible Region Ω\")\n",
    "\n",
    "plt.contourf(X0, X1, feasible, levels=[0.5, 1], colors=[\"#a0d2eb\"], alpha=0.7)\n",
    "\n",
    "plt.plot(x0_vals, x0_vals + 2, label=r\"$x_0 - x_1 + 2 = 0 \\;\\Leftrightarrow\\; x_0 \\geq x_1 - 2$\", color='blue')\n",
    "plt.plot(x0_vals, -x0_vals + 4, label=r\"$-x_0 - x_1 + 4 = 0 \\;\\Leftrightarrow\\; x_1 \\leq 4 - x_0$\", color='red')\n",
    "plt.axvline(0, label=r\"$x_0 \\geq 0$\", color='green')\n",
    "plt.axhline(1, label=r\"$x_1 \\geq 1$\", color='orange')\n",
    "\n",
    "plt.xlabel(r\"$x_0$\")\n",
    "plt.ylabel(r\"$x_1$\")\n",
    "plt.xlim(-0.5, 5)\n",
    "plt.ylim(-0.5, 5.5)\n",
    "plt.grid(True)\n",
    "plt.legend()\n",
    "plt.text(1, 1.5, r\"$\\Omega$\", fontsize=16, color=\"black\")\n",
    "\n",
    "plt.show()"
   ]
  },
  {
   "cell_type": "markdown",
   "metadata": {},
   "source": [
    "### 2. $is\\_feasible$\n",
    "\n",
    "Write a function $is\\_feasible$ that checks if a point $x$ is feasible (this function should return a boolean).\n",
    "\n",
    "I will call this function $is\\_feasible3$ since so that we don't have any issue with the same functions of the previous exercises.\n",
    "\n",
    "It would be better to rename also all the constraint function but there shouldn't be any issue anyway, since they will be overwritten."
   ]
  },
  {
   "cell_type": "code",
   "execution_count": 20,
   "metadata": {},
   "outputs": [],
   "source": [
    "def c1(x):\n",
    "    return x[0] - x[1] + 2\n",
    "\n",
    "def c2(x):\n",
    "    return -x[0] - x[1] + 4\n",
    "\n",
    "def c3(x):\n",
    "    return x[0]\n",
    "\n",
    "def c4(x):\n",
    "    return x[1] - 1\n",
    "\n",
    "def is_feasible3(x):\n",
    "    return (c1(x) >= 0 and c2(x) >= 0 and c3(x) >= 0 and c4(x) >= 0)"
   ]
  },
  {
   "cell_type": "markdown",
   "metadata": {},
   "source": [
    "### 3. $active\\_set$\n",
    "\n",
    "Write a function $active\\_set$ that returns the indices of active constraints at a point $x ∈ \\mathbb{R}^2$."
   ]
  },
  {
   "cell_type": "code",
   "execution_count": 21,
   "metadata": {},
   "outputs": [],
   "source": [
    "def active_set(x, tol=1e-8):\n",
    "    active = []\n",
    "    if abs(c1(x)) < tol:\n",
    "        active.append(1)\n",
    "    if abs(c2(x)) < tol:\n",
    "        active.append(2)\n",
    "    if abs(c3(x)) < tol:\n",
    "        active.append(3)\n",
    "    if abs(c4(x)) < tol:\n",
    "        active.append(4)\n",
    "    return active"
   ]
  },
  {
   "cell_type": "markdown",
   "metadata": {},
   "source": [
    "### 4. Test the functions $is\\_feasible and $active\\_set$ on the following points.\n",
    "\n",
    "- $x = (0,0)$\n",
    "- $x = (0,4)$\n",
    "- $x = (1,3)$"
   ]
  },
  {
   "cell_type": "code",
   "execution_count": 22,
   "metadata": {},
   "outputs": [
    {
     "name": "stdout",
     "output_type": "stream",
     "text": [
      "x1 = (0, 0)\n",
      "  Feasible? False\n",
      "  Active constraints: [3]\n",
      "\n",
      "x2 = (0, 4)\n",
      "  Feasible? False\n",
      "  Active constraints: [2, 3]\n",
      "\n",
      "x3 = (1, 3)\n",
      "  Feasible? True\n",
      "  Active constraints: [1, 2]\n",
      "\n"
     ]
    }
   ],
   "source": [
    "points = {\n",
    "    \"x1 = (0, 0)\": (0, 0),\n",
    "    \"x2 = (0, 4)\": (0, 4),\n",
    "    \"x3 = (1, 3)\": (1, 3)\n",
    "}\n",
    "\n",
    "for name, x in points.items():\n",
    "    feasible = is_feasible3(x)\n",
    "    active = active_set(x)\n",
    "    print(f\"{name}\")\n",
    "    print(f\"  Feasible? {feasible}\")\n",
    "    print(f\"  Active constraints: {active}\")\n",
    "    print()"
   ]
  },
  {
   "cell_type": "markdown",
   "metadata": {},
   "source": [
    "### 5. $is\\_feasible\\_direction$\n",
    "\n",
    "Write a function $is\\_feasible\\_direction$ that checks if a direction $d ∈ \\mathbb{R}^2$ is in the set of linearised feasible directions at a feasible point $x$ (this function should return a boolean)."
   ]
  },
  {
   "cell_type": "markdown",
   "metadata": {},
   "source": [
    "Let $\\Omega \\subset \\mathbb{R}^n$ be a feasible region defined by inequality and equality constraints.\n",
    "\n",
    "We say that a vector $d \\in \\mathbb{R}^n$ is a feasible direction at point $x \\in \\Omega$ if, when we move a small amount along $d$ starting from $x$, we remain in the feasible region (at least to first order).\n",
    "\n",
    "Formally, the set of linearized feasible directions at a feasible point $x$ is:\n",
    "\n",
    "$$\n",
    "F(x) = \\left\\{ x \\in \\mathbb{R}^2, d \\in \\mathbb{R}^n \\;\\middle|\\;\n",
    "\\begin{aligned}\n",
    "\\nabla c_i(x)^T d &\\geq 0 \\quad \\text{for } i \\in A(x) \\cap I \\\\\n",
    "\\nabla c_i(x)^T d &= 0 \\quad \\text{for } i \\in E\n",
    "\\end{aligned}\n",
    "\\right\\}\n",
    "$$\n",
    "\n",
    "Where:\n",
    "\n",
    "- $A(x)$: set of active constraints at $x$\n",
    "- $I$: set of inequality constraints\n",
    "- $E$: set of equality constraints (here is empty, so we can ignore that part)\n",
    "\n",
    "So, for our case (only inequality constraints), a direction $d$ is feasible if:\n",
    "\n",
    "> For every active constraint at $x$, the directional derivative $\\nabla c_i(x)^T d \\geq 0$\n",
    "\n",
    "This makes sure that moving along $d$ doesn't violate active constraints.\n",
    "\n",
    "To implement this, given a point $x \\in \\mathbb{R}^2$ we do:\n",
    "- Compute the active set $A(x)$\n",
    "- For each active constraint $c_i$, check that $\\nabla c_i(x)^T d \\geq 0$\n",
    "- If all checks pass, return `True`, otherwise, return `False`"
   ]
  },
  {
   "cell_type": "code",
   "execution_count": 23,
   "metadata": {},
   "outputs": [],
   "source": [
    "def grad_c1(x):\n",
    "    return np.array([1, -1])\n",
    "\n",
    "def grad_c2(x):\n",
    "    return np.array([-1, -1])\n",
    "\n",
    "def grad_c3(x):\n",
    "    return np.array([1, 0])\n",
    "\n",
    "def grad_c4(x):\n",
    "    return np.array([0, 1])\n",
    "\n",
    "def is_feasible_direction(x, d):\n",
    "    grads = {\n",
    "        1: grad_c1(x),\n",
    "        2: grad_c2(x),\n",
    "        3: grad_c3(x),\n",
    "        4: grad_c4(x),\n",
    "    }\n",
    "    A = active_set(x)\n",
    "    for i in A:\n",
    "        if np.dot(grads[i], d) < 0:\n",
    "            return False\n",
    "    return True"
   ]
  },
  {
   "cell_type": "markdown",
   "metadata": {},
   "source": [
    "### 6. Test the function $is\\_feasible\\_direction on the following points and directions.\n",
    "\n",
    "Points:\n",
    "\n",
    "- $x = (0,0)$\n",
    "- $\\bar{x} = (1,3)$\n",
    "\n",
    "Directions:\n",
    "\n",
    "- $d = (0,−1)$\n",
    "- $d = (1,0)$\n",
    "- $d = (0,1)$"
   ]
  },
  {
   "cell_type": "code",
   "execution_count": 24,
   "metadata": {},
   "outputs": [
    {
     "name": "stdout",
     "output_type": "stream",
     "text": [
      "Testing direction d = (0, -1)\n",
      "  At x = (0, 0):       True\n",
      "  At x̄ = (1, 3):       True\n",
      "\n",
      "Testing direction d = (1, 0)\n",
      "  At x = (0, 0):       True\n",
      "  At x̄ = (1, 3):       False\n",
      "\n",
      "Testing direction d = (0, 1)\n",
      "  At x = (0, 0):       True\n",
      "  At x̄ = (1, 3):       False\n",
      "\n"
     ]
    }
   ],
   "source": [
    "x = (0, 0)\n",
    "x_bar = (1, 3)\n",
    "\n",
    "directions = {\n",
    "    \"d = (0, -1)\": np.array([0, -1]),\n",
    "    \"d = (1, 0)\":  np.array([1, 0]),\n",
    "    \"d = (0, 1)\":  np.array([0, 1])\n",
    "}\n",
    "\n",
    "for name, d in directions.items():\n",
    "    print(f\"Testing direction {name}\")\n",
    "    print(f\"  At x = (0, 0):       {is_feasible_direction((0, 0), d)}\")\n",
    "    print(f\"  At x̄ = (1, 3):       {is_feasible_direction((1, 3), d)}\")\n",
    "    print()"
   ]
  },
  {
   "cell_type": "code",
   "execution_count": 25,
   "metadata": {},
   "outputs": [
    {
     "name": "stdout",
     "output_type": "stream",
     "text": [
      "Optimization Methods SP25 - Assignment 6\n",
      "Lorenzo Galli - Università della Svizzera Italiana (USI)\n"
     ]
    }
   ],
   "source": [
    "print(\"Optimization Methods SP25 - Assignment 6\")\n",
    "print(\"Lorenzo Galli - Università della Svizzera Italiana (USI)\")"
   ]
  }
 ],
 "metadata": {
  "kernelspec": {
   "display_name": "Python 3",
   "language": "python",
   "name": "python3"
  },
  "language_info": {
   "codemirror_mode": {
    "name": "ipython",
    "version": 3
   },
   "file_extension": ".py",
   "mimetype": "text/x-python",
   "name": "python",
   "nbconvert_exporter": "python",
   "pygments_lexer": "ipython3",
   "version": "3.12.7"
  }
 },
 "nbformat": 4,
 "nbformat_minor": 2
}
